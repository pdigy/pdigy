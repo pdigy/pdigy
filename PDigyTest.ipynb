{
 "cells": [
  {
   "cell_type": "code",
   "execution_count": 1,
   "id": "aca3ac69-dbf9-4ee7-b7f3-72ec4fbd6605",
   "metadata": {},
   "outputs": [],
   "source": [
    "from PIL import Image\n",
    "import io, os\n",
    "import numpy as np\n",
    "import pickle\n",
    "from constants import *\n",
    "import lzma as zipper\n",
    "import pandas as pd\n",
    "import struct"
   ]
  },
  {
   "cell_type": "code",
   "execution_count": 2,
   "id": "7f9e506e-d883-49bf-abee-20f7e6cd4477",
   "metadata": {},
   "outputs": [],
   "source": [
    "from constants import *\n",
    "from decoder import *\n",
    "from encoder import *\n",
    "import pandas as pd"
   ]
  },
  {
   "cell_type": "markdown",
   "id": "84a27255-b25e-420e-8468-968a14233ab1",
   "metadata": {},
   "source": [
    "The TCGA database files cannot be distributed by a third party but you can access the following example file from https://portal.gdc.cancer.gov/files/0b4b695b-b7e5-40ce-b2a7-d17fdf540522"
   ]
  },
  {
   "cell_type": "code",
   "execution_count": 3,
   "id": "e4891510-8070-43c9-a5f1-51173f2228eb",
   "metadata": {},
   "outputs": [
    {
     "name": "stdout",
     "output_type": "stream",
     "text": [
      "(72, 72) None\n",
      "Maximum pixel value is estimated to be:  255\n",
      "img.shape (27493, 24940, 4)\n",
      "pass:  675  fail:  0  efficiency:  1.0\n",
      "27 25\n",
      "{'000': {'name': 'ImageID', 'length': 32, 'description': None, 'note': None}, '001': {'name': 'ResolutionLev', 'length': 4, 'description': None, 'note': None}, '002': {'name': 'PixelDim', 'length': 8, 'description': None, 'note': None}, '003': {'name': 'FileFormat', 'length': 4, 'description': None, 'note': 'Need map'}, '004': {'name': 'WSIType', 'length': 1, 'description': None, 'note': 'Need map'}, '005': {'name': 'ColorSpace', 'length': 1, 'description': None, 'note': None}, '006': {'name': 'BitDepth', 'length': 4, 'description': None, 'note': None}, '007': {'name': 'AQDateTime', 'length': 10, 'description': None, 'note': None}, '008': {'name': 'ScannerModel', 'length': 128, 'description': None, 'note': None}, '009': {'name': 'OpticalMagnification', 'length': 4, 'description': None, 'note': None}, '00a': {'name': 'IPFSCID', 'length': 128, 'description': None, 'note': None}, '00b': {'name': 'lenZStack', 'length': 4, 'description': None, 'note': None}, '00c': {'name': 'Zstack', 'length': ('00b', 36), 'description': None, 'note': '32 char word and 1 integer'}, '00d': {'name': 'ImageQuality', 'length': 128, 'description': None, 'note': None}, '00e': {'name': 'ImageTransformation', 'length': 128, 'description': None, 'note': None}, '00f': {'name': 'lenCalibration', 'length': 4, 'description': None, 'note': None}, '010': {'name': 'Calibration', 'length': ('00f', 36), 'description': None, 'note': '32 char word and 1 integer'}, '011': {'name': 'lenROIExtraction', 'length': 4, 'description': None, 'note': None}, '012': {'name': 'ROIExtraction', 'length': ('012', 36), 'description': None, 'note': '32 char word and 1 integer'}, '013': {'name': 'TileDimensionX', 'length': 4, 'description': None, 'note': None}, '014': {'name': 'TileDimensionY', 'length': 4, 'description': None, 'note': None}, 'nan': {'name': None, 'length': None, 'description': ' ', 'note': None}}\n"
     ]
    }
   ],
   "source": [
    "image_path = 'test_sample/TCGA-HZ-7924-01Z-00-DX1.d73d1606-bda1-441b-ab00-69645fae6553.svs'\n",
    "example_path = \"PDigyExample.xlsx\"\n",
    "output_path = 'out'  \n",
    "\n",
    "pdigy_file = pdigy(image_path, example_path)\n",
    "\n",
    "pdigy_file.save_to_file(output_path)"
   ]
  },
  {
   "cell_type": "code",
   "execution_count": 4,
   "id": "981e7df1-1c76-44a3-87ef-b25bf1c69274",
   "metadata": {},
   "outputs": [
    {
     "name": "stdout",
     "output_type": "stream",
     "text": [
      "length_info 32\n",
      "length_info 4\n",
      "length_info 128\n",
      "length_info 4\n",
      "length_info ('00f', 36)\n",
      "size bytes:  b'\\x00\\x00\\x00\\x02'\n",
      "nan\n",
      "{'000': 'X00ABC', '003': 'JPEG', '008': 'SIEMENS', '00f': '\\x02', '010': '{\"calibrate0\",\"sharpen\"} '}\n",
      "Thumbnail image saved to thumbnail_image.JPEG\n",
      "Decoded and saved 675 patches to output_pdigy\n"
     ]
    }
   ],
   "source": [
    "file_path = 'out.pdigy'  \n",
    "full_image_path = 'full_image.JPEG'  \n",
    "thumbnail_image_path = 'thumbnail_image.JPEG'  \n",
    "decoder = pdigyDecoder(file_path)\n",
    "decoder.save_images(thumbnail_image_path)"
   ]
  }
 ],
 "metadata": {
  "kernelspec": {
   "display_name": "Python 3 (ipykernel)",
   "language": "python",
   "name": "python3"
  },
  "language_info": {
   "codemirror_mode": {
    "name": "ipython",
    "version": 3
   },
   "file_extension": ".py",
   "mimetype": "text/x-python",
   "name": "python",
   "nbconvert_exporter": "python",
   "pygments_lexer": "ipython3",
   "version": "3.12.1"
  }
 },
 "nbformat": 4,
 "nbformat_minor": 5
}
