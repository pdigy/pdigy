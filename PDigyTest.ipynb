{
 "cells": [
  {
   "cell_type": "code",
   "execution_count": null,
   "id": "aca3ac69-dbf9-4ee7-b7f3-72ec4fbd6605",
   "metadata": {},
   "outputs": [],
   "source": [
    "from PIL import Image\n",
    "import io, os\n",
    "import numpy as np\n",
    "import pickle\n",
    "from constants import *\n",
    "import lzma as zipper\n",
    "import pandas as pd\n",
    "import struct"
   ]
  },
  {
   "cell_type": "code",
   "execution_count": null,
   "id": "7f9e506e-d883-49bf-abee-20f7e6cd4477",
   "metadata": {},
   "outputs": [],
   "source": [
    "from constants import *\n",
    "from decoder import *\n",
    "from encoder import *\n"
   ]
  },
  {
   "cell_type": "code",
   "execution_count": null,
   "id": "e4891510-8070-43c9-a5f1-51173f2228eb",
   "metadata": {},
   "outputs": [],
   "source": [
    "image_path = 'TCGA-HZ-7924-01Z-00-DX1.d73d1606-bda1-441b-ab00-69645fae6553.svs'\n",
    "output_path = 'out'  \n",
    "\n",
    "pdigy_file = pdigy(image_path)\n",
    "\n",
    "pdigy_file.save_to_file(output_path)"
   ]
  },
  {
   "cell_type": "code",
   "execution_count": null,
   "id": "981e7df1-1c76-44a3-87ef-b25bf1c69274",
   "metadata": {},
   "outputs": [],
   "source": [
    "file_path = 'out.pdigy'  \n",
    "full_image_path = 'full_image.JPEG'  \n",
    "thumbnail_image_path = 'thumbnail_image.JPEG'  \n",
    "decoder = pdigyDecoder(file_path)\n",
    "decoder.save_images(thumbnail_image_path)"
   ]
  }
 ],
 "metadata": {
  "kernelspec": {
   "display_name": "Python 3 (ipykernel)",
   "language": "python",
   "name": "python3"
  },
  "language_info": {
   "codemirror_mode": {
    "name": "ipython",
    "version": 3
   },
   "file_extension": ".py",
   "mimetype": "text/x-python",
   "name": "python",
   "nbconvert_exporter": "python",
   "pygments_lexer": "ipython3",
   "version": "3.9.6"
  }
 },
 "nbformat": 4,
 "nbformat_minor": 5
}
